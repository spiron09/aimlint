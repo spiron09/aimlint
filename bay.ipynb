{
 "cells": [
  {
   "cell_type": "code",
   "execution_count": 2,
   "id": "1362601c",
   "metadata": {},
   "outputs": [],
   "source": [
    "filename = 'diabetes.csv'\n",
    "import pandas as pd\n",
    "import numpy as np\n",
    "\n",
    "df = pd.read_csv(filename)\n",
    "df = df.astype(float)\n",
    "\n",
    "train = df.sample(frac=0.8,random_state=105)\n",
    "test = df.drop(train.index)"
   ]
  },
  {
   "cell_type": "code",
   "execution_count": 3,
   "id": "669befe8",
   "metadata": {},
   "outputs": [
    {
     "name": "stdout",
     "output_type": "stream",
     "text": [
      "Training Dataset:\n",
      "     Pregnancies  Glucose  BloodPressure  SkinThickness  Insulin   BMI  \\\n",
      "535          4.0    132.0            0.0            0.0      0.0  32.9   \n",
      "336          0.0    117.0            0.0            0.0      0.0  33.8   \n",
      "718          1.0    108.0           60.0           46.0    178.0  35.5   \n",
      "691         13.0    158.0          114.0            0.0      0.0  42.3   \n",
      "260          3.0    191.0           68.0           15.0    130.0  30.9   \n",
      "..           ...      ...            ...            ...      ...   ...   \n",
      "622          6.0    183.0           94.0            0.0      0.0  40.8   \n",
      "277          0.0    104.0           64.0           23.0    116.0  27.8   \n",
      "308          0.0    128.0           68.0           19.0    180.0  30.5   \n",
      "148          5.0    147.0           78.0            0.0      0.0  33.7   \n",
      "339          7.0    178.0           84.0            0.0      0.0  39.9   \n",
      "\n",
      "     DiabetesPedigreeFunction   Age  Outcome  \n",
      "535                     0.302  23.0      1.0  \n",
      "336                     0.932  44.0      0.0  \n",
      "718                     0.415  24.0      0.0  \n",
      "691                     0.257  44.0      1.0  \n",
      "260                     0.299  34.0      0.0  \n",
      "..                        ...   ...      ...  \n",
      "622                     1.461  45.0      0.0  \n",
      "277                     0.454  23.0      0.0  \n",
      "308                     1.391  25.0      1.0  \n",
      "148                     0.218  65.0      0.0  \n",
      "339                     0.331  41.0      1.0  \n",
      "\n",
      "[614 rows x 9 columns]\n",
      "Test Dataset:\n",
      "     Pregnancies  Glucose  BloodPressure  SkinThickness  Insulin   BMI  \\\n",
      "0            6.0    148.0           72.0           35.0      0.0  33.6   \n",
      "1            1.0     85.0           66.0           29.0      0.0  26.6   \n",
      "3            1.0     89.0           66.0           23.0     94.0  28.1   \n",
      "9            8.0    125.0           96.0            0.0      0.0   0.0   \n",
      "15           7.0    100.0            0.0            0.0      0.0  30.0   \n",
      "..           ...      ...            ...            ...      ...   ...   \n",
      "749          6.0    162.0           62.0            0.0      0.0  24.3   \n",
      "758          1.0    106.0           76.0            0.0      0.0  37.5   \n",
      "760          2.0     88.0           58.0           26.0     16.0  28.4   \n",
      "765          5.0    121.0           72.0           23.0    112.0  26.2   \n",
      "767          1.0     93.0           70.0           31.0      0.0  30.4   \n",
      "\n",
      "     DiabetesPedigreeFunction   Age  Outcome  \n",
      "0                       0.627  50.0      1.0  \n",
      "1                       0.351  31.0      0.0  \n",
      "3                       0.167  21.0      0.0  \n",
      "9                       0.232  54.0      1.0  \n",
      "15                      0.484  32.0      1.0  \n",
      "..                        ...   ...      ...  \n",
      "749                     0.178  50.0      1.0  \n",
      "758                     0.197  26.0      0.0  \n",
      "760                     0.766  22.0      0.0  \n",
      "765                     0.245  30.0      0.0  \n",
      "767                     0.315  23.0      0.0  \n",
      "\n",
      "[154 rows x 9 columns]\n"
     ]
    }
   ],
   "source": [
    "print('Training Dataset:')\n",
    "print(train)\n",
    "print('Test Dataset:')\n",
    "print(test)"
   ]
  },
  {
   "cell_type": "code",
   "execution_count": 4,
   "id": "b2704fc8",
   "metadata": {},
   "outputs": [
    {
     "name": "stdout",
     "output_type": "stream",
     "text": [
      "============ 0.0\n",
      "============      Pregnancies  Glucose  BloodPressure  SkinThickness  Insulin   BMI  \\\n",
      "336          0.0    117.0            0.0            0.0      0.0  33.8   \n",
      "718          1.0    108.0           60.0           46.0    178.0  35.5   \n",
      "260          3.0    191.0           68.0           15.0    130.0  30.9   \n",
      "353          1.0     90.0           62.0           12.0     43.0  27.2   \n",
      "361          5.0    158.0           70.0            0.0      0.0  29.8   \n",
      "..           ...      ...            ...            ...      ...   ...   \n",
      "305          2.0    120.0           76.0           37.0    105.0  39.7   \n",
      "554          1.0     84.0           64.0           23.0    115.0  36.9   \n",
      "622          6.0    183.0           94.0            0.0      0.0  40.8   \n",
      "277          0.0    104.0           64.0           23.0    116.0  27.8   \n",
      "148          5.0    147.0           78.0            0.0      0.0  33.7   \n",
      "\n",
      "     DiabetesPedigreeFunction   Age  Outcome  \n",
      "336                     0.932  44.0      0.0  \n",
      "718                     0.415  24.0      0.0  \n",
      "260                     0.299  34.0      0.0  \n",
      "353                     0.580  24.0      0.0  \n",
      "361                     0.207  63.0      0.0  \n",
      "..                        ...   ...      ...  \n",
      "305                     0.215  29.0      0.0  \n",
      "554                     0.471  28.0      0.0  \n",
      "622                     1.461  45.0      0.0  \n",
      "277                     0.454  23.0      0.0  \n",
      "148                     0.218  65.0      0.0  \n",
      "\n",
      "[391 rows x 9 columns]\n",
      "============ 1.0\n",
      "============      Pregnancies  Glucose  BloodPressure  SkinThickness  Insulin   BMI  \\\n",
      "535          4.0    132.0            0.0            0.0      0.0  32.9   \n",
      "691         13.0    158.0          114.0            0.0      0.0  42.3   \n",
      "696          3.0    169.0           74.0           19.0    125.0  29.9   \n",
      "14           5.0    166.0           72.0           19.0    175.0  25.8   \n",
      "235          4.0    171.0           72.0            0.0      0.0  43.6   \n",
      "..           ...      ...            ...            ...      ...   ...   \n",
      "56           7.0    187.0           68.0           39.0    304.0  37.7   \n",
      "38           2.0     90.0           68.0           42.0      0.0  38.2   \n",
      "266          0.0    138.0            0.0            0.0      0.0  36.3   \n",
      "308          0.0    128.0           68.0           19.0    180.0  30.5   \n",
      "339          7.0    178.0           84.0            0.0      0.0  39.9   \n",
      "\n",
      "     DiabetesPedigreeFunction   Age  Outcome  \n",
      "535                     0.302  23.0      1.0  \n",
      "691                     0.257  44.0      1.0  \n",
      "696                     0.268  31.0      1.0  \n",
      "14                      0.587  51.0      1.0  \n",
      "235                     0.479  26.0      1.0  \n",
      "..                        ...   ...      ...  \n",
      "56                      0.254  41.0      1.0  \n",
      "38                      0.503  27.0      1.0  \n",
      "266                     0.933  25.0      1.0  \n",
      "308                     1.391  25.0      1.0  \n",
      "339                     0.331  41.0      1.0  \n",
      "\n",
      "[223 rows x 9 columns]\n"
     ]
    }
   ],
   "source": [
    "outcome_group = train.groupby(df.columns[-1])\n",
    "n_attr = len(df.columns)-1\n",
    "summaries = {}\n",
    "for classValue, instances in outcome_group:\n",
    "    print(\"============\", classValue)\n",
    "    print(\"============\", instances)\n",
    "    attr = []\n",
    "    mean = list(instances.mean(axis=0).values)\n",
    "    stdev = list(instances.std(axis=0).values)\n",
    "    for i in range(n_attr):\n",
    "        attr.append([mean[i],stdev[i]])\n",
    "    summaries[classValue] = attr"
   ]
  },
  {
   "cell_type": "code",
   "execution_count": 5,
   "id": "420a6b8f",
   "metadata": {},
   "outputs": [],
   "source": [
    "import math\n",
    "\n",
    "def calculateProb(x, mean, stdev):\n",
    "    exponent = math.exp(-math.pow(x-mean,2)/2*math.pow(stdev,2))\n",
    "    return (1 / (math.sqrt(2*math.pi)*math.pow(stdev,2))) * exponent\n",
    "\n",
    "def calculateClassProb(summaries, X_vec):\n",
    "    probabilities = {}\n",
    "    for classValue, classSummaries in summaries.items():\n",
    "        probabilities[classValue] = 1\n",
    "        for i in range(len(classSummaries)):\n",
    "            mean, stdev = classSummaries[i]\n",
    "            x = X_vec[i]\n",
    "            probabilities[classValue] *= calculateProb(x, mean, stdev)\n",
    "    return probabilities\n",
    "\n",
    "def predict(summaries, X_vec):\n",
    "    prob = calculateClassProb(summaries, X_vec)\n",
    "    bestLabel, bestProb = None, -1\n",
    "    for classValue, probability in prob.items():\n",
    "        if bestLabel is None or probability > bestProb:\n",
    "            bestProb = probability\n",
    "            bestLabel = classValue\n",
    "    return bestLabel"
   ]
  },
  {
   "cell_type": "code",
   "execution_count": 6,
   "id": "da61ddcf",
   "metadata": {},
   "outputs": [
    {
     "name": "stdout",
     "output_type": "stream",
     "text": [
      "Split 768 rows into train=614 and test=154\n",
      "Accuracy: 70.77922077922078\n"
     ]
    }
   ],
   "source": [
    "predictions = []\n",
    "testSet = test.values.tolist()\n",
    "for i in range(len(testSet)):\n",
    "    result = predict(summaries, testSet[i])\n",
    "    predictions.append(result)\n",
    "\n",
    "def getAccuracy(test, predictions):\n",
    "    correct = 0\n",
    "    for i in range(len(test)):\n",
    "        if test.iloc[i,-1] == predictions[i]:\n",
    "            correct += 1\n",
    "    return (correct/float(len(testSet))) * 100.0\n",
    "\n",
    "accuracy = getAccuracy(test, predictions)\n",
    "print(f'Split {len(df)} rows into train={len(train)} and test={len(test)}')\n",
    "print(f'Accuracy: {accuracy}')"
   ]
  },
  {
   "cell_type": "code",
   "execution_count": 7,
   "id": "455fb50f",
   "metadata": {},
   "outputs": [
    {
     "name": "stdout",
     "output_type": "stream",
     "text": [
      "Split 768 rows into train=614 and test=154\n",
      "Accuracy: 77.92207792207793\n"
     ]
    }
   ],
   "source": [
    "from sklearn.naive_bayes import GaussianNB\n",
    "gnb = GaussianNB()\n",
    "data_train = train.iloc[:,:-1]\n",
    "target_train = train.iloc[:,-1]\n",
    "gnb.fit(data_train, target_train)\n",
    "\n",
    "data_test = test.iloc[:,:-1]\n",
    "y_pred = gnb.predict(data_test)\n",
    "\n",
    "from sklearn import metrics\n",
    "print(f'Split {len(df)} rows into train={len(data_train)} and test={len(data_test)}')\n",
    "print(f'Accuracy: {metrics.accuracy_score(test.iloc[:,-1], y_pred)*100}')"
   ]
  },
  {
   "cell_type": "code",
   "execution_count": null,
   "id": "2cdef469",
   "metadata": {},
   "outputs": [],
   "source": []
  }
 ],
 "metadata": {
  "kernelspec": {
   "display_name": "Python 3 (ipykernel)",
   "language": "python",
   "name": "python3"
  },
  "language_info": {
   "codemirror_mode": {
    "name": "ipython",
    "version": 3
   },
   "file_extension": ".py",
   "mimetype": "text/x-python",
   "name": "python",
   "nbconvert_exporter": "python",
   "pygments_lexer": "ipython3",
   "version": "3.12.1"
  }
 },
 "nbformat": 4,
 "nbformat_minor": 5
}
